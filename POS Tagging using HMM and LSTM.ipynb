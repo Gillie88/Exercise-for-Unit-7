{
 "cells": [
  {
   "cell_type": "code",
   "execution_count": null,
   "id": "2b2fcf8a",
   "metadata": {},
   "outputs": [
    {
     "name": "stderr",
     "output_type": "stream",
     "text": [
      "[nltk_data] Downloading package treebank to\n",
      "[nltk_data]     C:\\Users\\gilli\\AppData\\Roaming\\nltk_data...\n",
      "[nltk_data]   Package treebank is already up-to-date!\n"
     ]
    },
    {
     "name": "stdout",
     "output_type": "stream",
     "text": [
      "HMM Accuracy: 0.9150\n"
     ]
    },
    {
     "data": {
      "text/html": [
       "<pre style=\"white-space:pre;overflow-x:auto;line-height:normal;font-family:Menlo,'DejaVu Sans Mono',consolas,'Courier New',monospace\"><span style=\"font-weight: bold\">Model: \"sequential_5\"</span>\n",
       "</pre>\n"
      ],
      "text/plain": [
       "\u001b[1mModel: \"sequential_5\"\u001b[0m\n"
      ]
     },
     "metadata": {},
     "output_type": "display_data"
    },
    {
     "data": {
      "text/html": [
       "<pre style=\"white-space:pre;overflow-x:auto;line-height:normal;font-family:Menlo,'DejaVu Sans Mono',consolas,'Courier New',monospace\">┏━━━━━━━━━━━━━━━━━━━━━━━━━━━━━━━━━┳━━━━━━━━━━━━━━━━━━━━━━━━┳━━━━━━━━━━━━━━━┓\n",
       "┃<span style=\"font-weight: bold\"> Layer (type)                    </span>┃<span style=\"font-weight: bold\"> Output Shape           </span>┃<span style=\"font-weight: bold\">       Param # </span>┃\n",
       "┡━━━━━━━━━━━━━━━━━━━━━━━━━━━━━━━━━╇━━━━━━━━━━━━━━━━━━━━━━━━╇━━━━━━━━━━━━━━━┩\n",
       "│ embedding_5 (<span style=\"color: #0087ff; text-decoration-color: #0087ff\">Embedding</span>)         │ (<span style=\"color: #00d7ff; text-decoration-color: #00d7ff\">None</span>, <span style=\"color: #00af00; text-decoration-color: #00af00\">271</span>, <span style=\"color: #00af00; text-decoration-color: #00af00\">128</span>)       │     <span style=\"color: #00af00; text-decoration-color: #00af00\">2,560,000</span> │\n",
       "├─────────────────────────────────┼────────────────────────┼───────────────┤\n",
       "│ lstm_5 (<span style=\"color: #0087ff; text-decoration-color: #0087ff\">LSTM</span>)                   │ (<span style=\"color: #00d7ff; text-decoration-color: #00d7ff\">None</span>, <span style=\"color: #00af00; text-decoration-color: #00af00\">271</span>, <span style=\"color: #00af00; text-decoration-color: #00af00\">64</span>)        │        <span style=\"color: #00af00; text-decoration-color: #00af00\">49,408</span> │\n",
       "├─────────────────────────────────┼────────────────────────┼───────────────┤\n",
       "│ dense_5 (<span style=\"color: #0087ff; text-decoration-color: #0087ff\">Dense</span>)                 │ (<span style=\"color: #00d7ff; text-decoration-color: #00d7ff\">None</span>, <span style=\"color: #00af00; text-decoration-color: #00af00\">271</span>, <span style=\"color: #00af00; text-decoration-color: #00af00\">46</span>)        │         <span style=\"color: #00af00; text-decoration-color: #00af00\">2,990</span> │\n",
       "└─────────────────────────────────┴────────────────────────┴───────────────┘\n",
       "</pre>\n"
      ],
      "text/plain": [
       "┏━━━━━━━━━━━━━━━━━━━━━━━━━━━━━━━━━┳━━━━━━━━━━━━━━━━━━━━━━━━┳━━━━━━━━━━━━━━━┓\n",
       "┃\u001b[1m \u001b[0m\u001b[1mLayer (type)                   \u001b[0m\u001b[1m \u001b[0m┃\u001b[1m \u001b[0m\u001b[1mOutput Shape          \u001b[0m\u001b[1m \u001b[0m┃\u001b[1m \u001b[0m\u001b[1m      Param #\u001b[0m\u001b[1m \u001b[0m┃\n",
       "┡━━━━━━━━━━━━━━━━━━━━━━━━━━━━━━━━━╇━━━━━━━━━━━━━━━━━━━━━━━━╇━━━━━━━━━━━━━━━┩\n",
       "│ embedding_5 (\u001b[38;5;33mEmbedding\u001b[0m)         │ (\u001b[38;5;45mNone\u001b[0m, \u001b[38;5;34m271\u001b[0m, \u001b[38;5;34m128\u001b[0m)       │     \u001b[38;5;34m2,560,000\u001b[0m │\n",
       "├─────────────────────────────────┼────────────────────────┼───────────────┤\n",
       "│ lstm_5 (\u001b[38;5;33mLSTM\u001b[0m)                   │ (\u001b[38;5;45mNone\u001b[0m, \u001b[38;5;34m271\u001b[0m, \u001b[38;5;34m64\u001b[0m)        │        \u001b[38;5;34m49,408\u001b[0m │\n",
       "├─────────────────────────────────┼────────────────────────┼───────────────┤\n",
       "│ dense_5 (\u001b[38;5;33mDense\u001b[0m)                 │ (\u001b[38;5;45mNone\u001b[0m, \u001b[38;5;34m271\u001b[0m, \u001b[38;5;34m46\u001b[0m)        │         \u001b[38;5;34m2,990\u001b[0m │\n",
       "└─────────────────────────────────┴────────────────────────┴───────────────┘\n"
      ]
     },
     "metadata": {},
     "output_type": "display_data"
    },
    {
     "data": {
      "text/html": [
       "<pre style=\"white-space:pre;overflow-x:auto;line-height:normal;font-family:Menlo,'DejaVu Sans Mono',consolas,'Courier New',monospace\"><span style=\"font-weight: bold\"> Total params: </span><span style=\"color: #00af00; text-decoration-color: #00af00\">2,612,398</span> (9.97 MB)\n",
       "</pre>\n"
      ],
      "text/plain": [
       "\u001b[1m Total params: \u001b[0m\u001b[38;5;34m2,612,398\u001b[0m (9.97 MB)\n"
      ]
     },
     "metadata": {},
     "output_type": "display_data"
    },
    {
     "data": {
      "text/html": [
       "<pre style=\"white-space:pre;overflow-x:auto;line-height:normal;font-family:Menlo,'DejaVu Sans Mono',consolas,'Courier New',monospace\"><span style=\"font-weight: bold\"> Trainable params: </span><span style=\"color: #00af00; text-decoration-color: #00af00\">2,612,398</span> (9.97 MB)\n",
       "</pre>\n"
      ],
      "text/plain": [
       "\u001b[1m Trainable params: \u001b[0m\u001b[38;5;34m2,612,398\u001b[0m (9.97 MB)\n"
      ]
     },
     "metadata": {},
     "output_type": "display_data"
    },
    {
     "data": {
      "text/html": [
       "<pre style=\"white-space:pre;overflow-x:auto;line-height:normal;font-family:Menlo,'DejaVu Sans Mono',consolas,'Courier New',monospace\"><span style=\"font-weight: bold\"> Non-trainable params: </span><span style=\"color: #00af00; text-decoration-color: #00af00\">0</span> (0.00 B)\n",
       "</pre>\n"
      ],
      "text/plain": [
       "\u001b[1m Non-trainable params: \u001b[0m\u001b[38;5;34m0\u001b[0m (0.00 B)\n"
      ]
     },
     "metadata": {},
     "output_type": "display_data"
    },
    {
     "name": "stdout",
     "output_type": "stream",
     "text": [
      "Epoch 1/3\n",
      "\u001b[1m23/23\u001b[0m \u001b[32m━━━━━━━━━━━━━━━━━━━━\u001b[0m\u001b[37m\u001b[0m \u001b[1m15s\u001b[0m 504ms/step - accuracy: 0.7664 - loss: 1.6844 - val_accuracy: 0.9117 - val_loss: 0.3681\n",
      "Epoch 2/3\n",
      "\u001b[1m23/23\u001b[0m \u001b[32m━━━━━━━━━━━━━━━━━━━━\u001b[0m\u001b[37m\u001b[0m \u001b[1m11s\u001b[0m 494ms/step - accuracy: 0.9163 - loss: 0.3586 - val_accuracy: 0.9214 - val_loss: 0.3401\n",
      "Epoch 3/3\n",
      "\u001b[1m23/23\u001b[0m \u001b[32m━━━━━━━━━━━━━━━━━━━━\u001b[0m\u001b[37m\u001b[0m \u001b[1m11s\u001b[0m 474ms/step - accuracy: 0.9248 - loss: 0.3226 - val_accuracy: 0.9253 - val_loss: 0.3131\n",
      "LSTM Accuracy: 0.9243\n"
     ]
    }
   ],
   "source": [
    "import nltk\n",
    "import numpy as np\n",
    "from nltk.corpus import treebank\n",
    "from nltk.tag import hmm\n",
    "from sklearn.model_selection import train_test_split\n",
    "from tensorflow.keras.models import Sequential  # type: ignore\n",
    "from tensorflow.keras.layers import Embedding, LSTM, Dense # type: ignore\n",
    "from tensorflow.keras.preprocessing.sequence import pad_sequences # type: ignore\n",
    "from tensorflow.keras.utils import to_categorical # type: ignore\n",
    "from tensorflow.keras.preprocessing.text import Tokenizer # type: ignore\n",
    "from tensorflow.keras.layers import Input, Embedding, LSTM, Dense # type: ignore\n",
    "import tensorflow as tf\n",
    "\n",
    "# Download NLTK Treebank Corpus\n",
    "\n",
    "nltk.download('treebank')\n",
    "\n",
    "# Load and Prepare the Data\n",
    "\n",
    "tagged_sentences = treebank.tagged_sents()\n",
    "train_data, test_data = train_test_split(tagged_sentences, test_size=0.2, random_state=42)\n",
    "\n",
    "def split_words_tags(sentences):\n",
    "    words, tags = [], []\n",
    "    for sent in sentences:\n",
    "        w, t = zip(*sent)\n",
    "        words.append(list(w))\n",
    "        tags.append(list(t))\n",
    "    return words, tags\n",
    "\n",
    "train_words, train_tags = split_words_tags(train_data)\n",
    "test_words, test_tags = split_words_tags(test_data)\n",
    "\n",
    "# 1.  HMM Model using NLTK\n",
    "\n",
    "hmm_tagger = hmm.HiddenMarkovModelTagger.train(train_data)\n",
    "\n",
    "def evaluate_hmm(model, data):\n",
    "    correct, total = 0, 0\n",
    "    for sent in data:\n",
    "        words = [w for w, _ in sent]\n",
    "        true_tags = [t for _, t in sent]\n",
    "        pred_tags = [t for _, t in model.tag(words)]\n",
    "        correct += sum(p == t for p, t in zip(pred_tags, true_tags))\n",
    "        total += len(true_tags)\n",
    "    return correct / total\n",
    "\n",
    "hmm_acc = evaluate_hmm(hmm_tagger, test_data)\n",
    "print(f\"HMM Accuracy: {hmm_acc:.4f}\")\n",
    "\n",
    "# 2. LSTM Neural Network Model\n",
    "\n",
    "# Tokenize words\n",
    "tokenizer = Tokenizer(num_words=20000, oov_token=\"<OOV>\")\n",
    "tokenizer.fit_on_texts([word for sent in train_words for word in sent])\n",
    "X_train = tokenizer.texts_to_sequences(train_words)\n",
    "X_test = tokenizer.texts_to_sequences(test_words)\n",
    "\n",
    "# Pad sequences\n",
    "max_len = max(max(len(x) for x in X_train), max(len(x) for x in X_test))\n",
    "X_train_padded = pad_sequences(X_train, maxlen=max_len, padding='post')\n",
    "X_test_padded = pad_sequences(X_test, maxlen=max_len, padding='post')\n",
    "\n",
    "# Create tag vocab\n",
    "tag_vocab = sorted(set(tag for sent in train_tags for tag in sent))\n",
    "tag2idx = {tag: idx for idx, tag in enumerate(tag_vocab)}\n",
    "idx2tag = {idx: tag for tag, idx in tag2idx.items()}\n",
    "\n",
    "# Convert tags to indices\n",
    "y_train = [[tag2idx[tag] for tag in sent] for sent in train_tags]\n",
    "y_test = [[tag2idx.get(tag, 0) for tag in sent] for sent in test_tags]\n",
    "\n",
    "# Pad tag sequences\n",
    "y_train_padded = pad_sequences(y_train, maxlen=max_len, padding='post')\n",
    "y_test_padded = pad_sequences(y_test, maxlen=max_len, padding='post')\n",
    "\n",
    "# One-hot encode tags\n",
    "y_train_onehot = to_categorical(y_train_padded, num_classes=len(tag2idx))\n",
    "y_test_onehot = to_categorical(y_test_padded, num_classes=len(tag2idx))\n",
    "\n",
    "# Build and Train LSTM Model\n",
    "model = Sequential([\n",
    "    Input(shape=(max_len,)),  \n",
    "    Embedding(input_dim=20000, output_dim=128),\n",
    "    LSTM(64, return_sequences=True),\n",
    "    Dense(len(tag2idx), activation='softmax')\n",
    "])\n",
    "\n",
    "model.compile(optimizer='adam', loss='categorical_crossentropy', metrics=['accuracy'])\n",
    "model.summary()\n",
    "\n",
    "# Train the model\n",
    "model.fit(X_train_padded, y_train_onehot, batch_size=128, epochs=3, validation_split=0.1)\n",
    "\n",
    "# Evaluate the model\n",
    "loss, lstm_acc = model.evaluate(X_test_padded, y_test_onehot, verbose=0)\n",
    "print(f\"LSTM Accuracy: {lstm_acc:.4f}\")\n"
   ]
  }
 ],
 "metadata": {
  "kernelspec": {
   "display_name": "Python 3",
   "language": "python",
   "name": "python3"
  },
  "language_info": {
   "codemirror_mode": {
    "name": "ipython",
    "version": 3
   },
   "file_extension": ".py",
   "mimetype": "text/x-python",
   "name": "python",
   "nbconvert_exporter": "python",
   "pygments_lexer": "ipython3",
   "version": "3.10.0"
  }
 },
 "nbformat": 4,
 "nbformat_minor": 5
}
